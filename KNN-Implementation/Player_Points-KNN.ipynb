{
 "cells": [
  {
   "cell_type": "markdown",
   "metadata": {},
   "source": [
    "<b>Importing Libraries</b>"
   ]
  },
  {
   "cell_type": "code",
   "execution_count": 14,
   "metadata": {},
   "outputs": [],
   "source": [
    "import numpy as np\n",
    "import matplotlib.pyplot as mtp\n",
    "import pandas as pd "
   ]
  },
  {
   "cell_type": "markdown",
   "metadata": {},
   "source": [
    "**Importing Datasets**"
   ]
  },
  {
   "cell_type": "code",
   "execution_count": 15,
   "metadata": {},
   "outputs": [
    {
     "data": {
      "text/html": [
       "<div>\n",
       "<style scoped>\n",
       "    .dataframe tbody tr th:only-of-type {\n",
       "        vertical-align: middle;\n",
       "    }\n",
       "\n",
       "    .dataframe tbody tr th {\n",
       "        vertical-align: top;\n",
       "    }\n",
       "\n",
       "    .dataframe thead th {\n",
       "        text-align: right;\n",
       "    }\n",
       "</style>\n",
       "<table border=\"1\" class=\"dataframe\">\n",
       "  <thead>\n",
       "    <tr style=\"text-align: right;\">\n",
       "      <th></th>\n",
       "      <th>player</th>\n",
       "      <th>pos</th>\n",
       "      <th>age</th>\n",
       "      <th>bref_team_id</th>\n",
       "      <th>g</th>\n",
       "      <th>gs</th>\n",
       "      <th>mp</th>\n",
       "      <th>fg</th>\n",
       "      <th>fga</th>\n",
       "      <th>fg.</th>\n",
       "      <th>...</th>\n",
       "      <th>drb</th>\n",
       "      <th>trb</th>\n",
       "      <th>ast</th>\n",
       "      <th>stl</th>\n",
       "      <th>blk</th>\n",
       "      <th>tov</th>\n",
       "      <th>pf</th>\n",
       "      <th>pts</th>\n",
       "      <th>season</th>\n",
       "      <th>season_end</th>\n",
       "    </tr>\n",
       "  </thead>\n",
       "  <tbody>\n",
       "    <tr>\n",
       "      <th>0</th>\n",
       "      <td>Quincy Acy</td>\n",
       "      <td>SF</td>\n",
       "      <td>23</td>\n",
       "      <td>TOT</td>\n",
       "      <td>63</td>\n",
       "      <td>0</td>\n",
       "      <td>847</td>\n",
       "      <td>66</td>\n",
       "      <td>141</td>\n",
       "      <td>0.468</td>\n",
       "      <td>...</td>\n",
       "      <td>144</td>\n",
       "      <td>216</td>\n",
       "      <td>28</td>\n",
       "      <td>23</td>\n",
       "      <td>26</td>\n",
       "      <td>30</td>\n",
       "      <td>122</td>\n",
       "      <td>171</td>\n",
       "      <td>2013-2014</td>\n",
       "      <td>2013</td>\n",
       "    </tr>\n",
       "    <tr>\n",
       "      <th>1</th>\n",
       "      <td>Steven Adams</td>\n",
       "      <td>C</td>\n",
       "      <td>20</td>\n",
       "      <td>OKC</td>\n",
       "      <td>81</td>\n",
       "      <td>20</td>\n",
       "      <td>1197</td>\n",
       "      <td>93</td>\n",
       "      <td>185</td>\n",
       "      <td>0.503</td>\n",
       "      <td>...</td>\n",
       "      <td>190</td>\n",
       "      <td>332</td>\n",
       "      <td>43</td>\n",
       "      <td>40</td>\n",
       "      <td>57</td>\n",
       "      <td>71</td>\n",
       "      <td>203</td>\n",
       "      <td>265</td>\n",
       "      <td>2013-2014</td>\n",
       "      <td>2013</td>\n",
       "    </tr>\n",
       "    <tr>\n",
       "      <th>2</th>\n",
       "      <td>Jeff Adrien</td>\n",
       "      <td>PF</td>\n",
       "      <td>27</td>\n",
       "      <td>TOT</td>\n",
       "      <td>53</td>\n",
       "      <td>12</td>\n",
       "      <td>961</td>\n",
       "      <td>143</td>\n",
       "      <td>275</td>\n",
       "      <td>0.520</td>\n",
       "      <td>...</td>\n",
       "      <td>204</td>\n",
       "      <td>306</td>\n",
       "      <td>38</td>\n",
       "      <td>24</td>\n",
       "      <td>36</td>\n",
       "      <td>39</td>\n",
       "      <td>108</td>\n",
       "      <td>362</td>\n",
       "      <td>2013-2014</td>\n",
       "      <td>2013</td>\n",
       "    </tr>\n",
       "    <tr>\n",
       "      <th>3</th>\n",
       "      <td>Arron Afflalo</td>\n",
       "      <td>SG</td>\n",
       "      <td>28</td>\n",
       "      <td>ORL</td>\n",
       "      <td>73</td>\n",
       "      <td>73</td>\n",
       "      <td>2552</td>\n",
       "      <td>464</td>\n",
       "      <td>1011</td>\n",
       "      <td>0.459</td>\n",
       "      <td>...</td>\n",
       "      <td>230</td>\n",
       "      <td>262</td>\n",
       "      <td>248</td>\n",
       "      <td>35</td>\n",
       "      <td>3</td>\n",
       "      <td>146</td>\n",
       "      <td>136</td>\n",
       "      <td>1330</td>\n",
       "      <td>2013-2014</td>\n",
       "      <td>2013</td>\n",
       "    </tr>\n",
       "    <tr>\n",
       "      <th>4</th>\n",
       "      <td>Alexis Ajinca</td>\n",
       "      <td>C</td>\n",
       "      <td>25</td>\n",
       "      <td>NOP</td>\n",
       "      <td>56</td>\n",
       "      <td>30</td>\n",
       "      <td>951</td>\n",
       "      <td>136</td>\n",
       "      <td>249</td>\n",
       "      <td>0.546</td>\n",
       "      <td>...</td>\n",
       "      <td>183</td>\n",
       "      <td>277</td>\n",
       "      <td>40</td>\n",
       "      <td>23</td>\n",
       "      <td>46</td>\n",
       "      <td>63</td>\n",
       "      <td>187</td>\n",
       "      <td>328</td>\n",
       "      <td>2013-2014</td>\n",
       "      <td>2013</td>\n",
       "    </tr>\n",
       "    <tr>\n",
       "      <th>5</th>\n",
       "      <td>Cole Aldrich</td>\n",
       "      <td>C</td>\n",
       "      <td>25</td>\n",
       "      <td>NYK</td>\n",
       "      <td>46</td>\n",
       "      <td>2</td>\n",
       "      <td>330</td>\n",
       "      <td>33</td>\n",
       "      <td>61</td>\n",
       "      <td>0.541</td>\n",
       "      <td>...</td>\n",
       "      <td>92</td>\n",
       "      <td>129</td>\n",
       "      <td>14</td>\n",
       "      <td>8</td>\n",
       "      <td>30</td>\n",
       "      <td>18</td>\n",
       "      <td>40</td>\n",
       "      <td>92</td>\n",
       "      <td>2013-2014</td>\n",
       "      <td>2013</td>\n",
       "    </tr>\n",
       "    <tr>\n",
       "      <th>6</th>\n",
       "      <td>LaMarcus Aldridge</td>\n",
       "      <td>PF</td>\n",
       "      <td>28</td>\n",
       "      <td>POR</td>\n",
       "      <td>69</td>\n",
       "      <td>69</td>\n",
       "      <td>2498</td>\n",
       "      <td>652</td>\n",
       "      <td>1423</td>\n",
       "      <td>0.458</td>\n",
       "      <td>...</td>\n",
       "      <td>599</td>\n",
       "      <td>765</td>\n",
       "      <td>178</td>\n",
       "      <td>63</td>\n",
       "      <td>68</td>\n",
       "      <td>123</td>\n",
       "      <td>147</td>\n",
       "      <td>1603</td>\n",
       "      <td>2013-2014</td>\n",
       "      <td>2013</td>\n",
       "    </tr>\n",
       "  </tbody>\n",
       "</table>\n",
       "<p>7 rows × 31 columns</p>\n",
       "</div>"
      ],
      "text/plain": [
       "              player pos  age bref_team_id   g  gs    mp   fg   fga    fg.   \n",
       "0         Quincy Acy  SF   23          TOT  63   0   847   66   141  0.468  \\\n",
       "1       Steven Adams   C   20          OKC  81  20  1197   93   185  0.503   \n",
       "2        Jeff Adrien  PF   27          TOT  53  12   961  143   275  0.520   \n",
       "3      Arron Afflalo  SG   28          ORL  73  73  2552  464  1011  0.459   \n",
       "4      Alexis Ajinca   C   25          NOP  56  30   951  136   249  0.546   \n",
       "5       Cole Aldrich   C   25          NYK  46   2   330   33    61  0.541   \n",
       "6  LaMarcus Aldridge  PF   28          POR  69  69  2498  652  1423  0.458   \n",
       "\n",
       "   ...  drb  trb  ast  stl  blk  tov   pf   pts     season  season_end  \n",
       "0  ...  144  216   28   23   26   30  122   171  2013-2014        2013  \n",
       "1  ...  190  332   43   40   57   71  203   265  2013-2014        2013  \n",
       "2  ...  204  306   38   24   36   39  108   362  2013-2014        2013  \n",
       "3  ...  230  262  248   35    3  146  136  1330  2013-2014        2013  \n",
       "4  ...  183  277   40   23   46   63  187   328  2013-2014        2013  \n",
       "5  ...   92  129   14    8   30   18   40    92  2013-2014        2013  \n",
       "6  ...  599  765  178   63   68  123  147  1603  2013-2014        2013  \n",
       "\n",
       "[7 rows x 31 columns]"
      ]
     },
     "execution_count": 15,
     "metadata": {},
     "output_type": "execute_result"
    }
   ],
   "source": [
    "nba=pd.read_csv('nba_2013.csv')\n",
    "nba.head(7)"
   ]
  },
  {
   "cell_type": "markdown",
   "metadata": {},
   "source": [
    "**Perform basic functions to gain knowledge on the dataset**"
   ]
  },
  {
   "cell_type": "code",
   "execution_count": 16,
   "metadata": {},
   "outputs": [
    {
     "data": {
      "text/plain": [
       "(481, 31)"
      ]
     },
     "execution_count": 16,
     "metadata": {},
     "output_type": "execute_result"
    }
   ],
   "source": [
    "nba.shape"
   ]
  },
  {
   "cell_type": "markdown",
   "metadata": {},
   "source": [
    "**Checking for Null Values**"
   ]
  },
  {
   "cell_type": "code",
   "execution_count": 17,
   "metadata": {},
   "outputs": [
    {
     "data": {
      "text/plain": [
       "player          False\n",
       "pos             False\n",
       "age             False\n",
       "bref_team_id    False\n",
       "g               False\n",
       "gs              False\n",
       "mp              False\n",
       "fg              False\n",
       "fga             False\n",
       "fg.              True\n",
       "x3p             False\n",
       "x3pa            False\n",
       "x3p.             True\n",
       "x2p             False\n",
       "x2pa            False\n",
       "x2p.             True\n",
       "efg.             True\n",
       "ft              False\n",
       "fta             False\n",
       "ft.              True\n",
       "orb             False\n",
       "drb             False\n",
       "trb             False\n",
       "ast             False\n",
       "stl             False\n",
       "blk             False\n",
       "tov             False\n",
       "pf              False\n",
       "pts             False\n",
       "season          False\n",
       "season_end      False\n",
       "dtype: bool"
      ]
     },
     "execution_count": 17,
     "metadata": {},
     "output_type": "execute_result"
    }
   ],
   "source": [
    "nba.isnull().any()"
   ]
  },
  {
   "cell_type": "markdown",
   "metadata": {},
   "source": [
    "**Replace Null values with specific values**"
   ]
  },
  {
   "cell_type": "code",
   "execution_count": 18,
   "metadata": {},
   "outputs": [],
   "source": [
    "nba[\"fg.\"].fillna(nba[\"fg.\"].mean(),inplace=True)\n",
    "nba[\"x2p.\"].fillna(nba[\"x2p.\"].mean(),inplace=True)\n",
    "nba[\"efg.\"].fillna(nba[\"efg.\"].mean(),inplace=True)\n",
    "nba[\"x3p.\"].fillna(nba[\"x3p.\"].mean(),inplace=True)\n",
    "nba[\"ft.\"].fillna(nba[\"ft.\"].mean(),inplace=True)"
   ]
  },
  {
   "cell_type": "markdown",
   "metadata": {},
   "source": [
    "**Selecting Numeric Columns from the dataset**"
   ]
  },
  {
   "cell_type": "code",
   "execution_count": 28,
   "metadata": {},
   "outputs": [
    {
     "data": {
      "text/plain": [
       "['age',\n",
       " 'g',\n",
       " 'gs',\n",
       " 'mp',\n",
       " 'fg',\n",
       " 'fga',\n",
       " 'fg.',\n",
       " 'x3p',\n",
       " 'x3pa',\n",
       " 'x3p.',\n",
       " 'x2p',\n",
       " 'x2pa',\n",
       " 'x2p.',\n",
       " 'efg.',\n",
       " 'ft',\n",
       " 'fta',\n",
       " 'ft.',\n",
       " 'orb',\n",
       " 'drb',\n",
       " 'trb',\n",
       " 'ast',\n",
       " 'stl',\n",
       " 'blk',\n",
       " 'tov',\n",
       " 'pf',\n",
       " 'pts']"
      ]
     },
     "execution_count": 28,
     "metadata": {},
     "output_type": "execute_result"
    }
   ],
   "source": [
    "nba.select_dtypes(include=np.number).columns.tolist()"
   ]
  },
  {
   "cell_type": "code",
   "execution_count": 20,
   "metadata": {},
   "outputs": [],
   "source": [
    "distance_columns = ['age', 'g', 'gs', 'mp', 'fg', 'fga', 'fg.', 'x3p', 'x3pa', 'x3p.', 'x2p', 'x2pa', 'x2p.', 'efg.', 'ft', 'fta', 'ft.', 'orb', 'drb', 'trb', 'ast', 'stl', 'blk', 'tov', 'pf', 'pts']\n",
    "nba_numeric = nba[distance_columns]"
   ]
  },
  {
   "cell_type": "markdown",
   "metadata": {},
   "source": [
    "**Normalizing the numerical columns**"
   ]
  },
  {
   "cell_type": "code",
   "execution_count": 21,
   "metadata": {},
   "outputs": [],
   "source": [
    "nba_normalized = nba_numeric.apply(lambda x: (x - x.min()) / (x.max() - x.min()))"
   ]
  },
  {
   "cell_type": "markdown",
   "metadata": {},
   "source": [
    "**Defining Categorical Columns**"
   ]
  },
  {
   "cell_type": "code",
   "execution_count": 22,
   "metadata": {},
   "outputs": [],
   "source": [
    "nba_category = nba[['player', 'bref_team_id', 'season']]"
   ]
  },
  {
   "cell_type": "code",
   "execution_count": 23,
   "metadata": {},
   "outputs": [],
   "source": [
    "nba = pd.concat([nba_category, nba_normalized], axis=1)\n",
    "\n",
    "from sklearn.model_selection import train_test_split\n",
    "\n",
    "# Columns that will be used to make predictions.\n",
    "x_columns = nba[['age', 'g', 'gs', 'mp', 'fg', 'fga', 'fg.', 'x3p', 'x3pa', 'x3p.', 'x2p', 'x2pa', 'x2p.', 'efg.', 'ft', 'fta', 'ft.', 'orb', 'drb', 'trb', 'ast', 'stl', 'blk', 'tov', 'pf']]\n",
    "\n",
    "# Column that we would like to predict.\n",
    "y_column = nba[\"pts\"]\n",
    "\n",
    "x_train, x_test, y_train, y_test = train_test_split(x_columns, y_column, test_size=0.3, random_state=0)"
   ]
  },
  {
   "cell_type": "markdown",
   "metadata": {},
   "source": [
    "**Making the KNN model using a regressor for continuous values**"
   ]
  },
  {
   "cell_type": "code",
   "execution_count": 24,
   "metadata": {},
   "outputs": [],
   "source": [
    "from sklearn.neighbors import KNeighborsRegressor\n",
    "from sklearn import metrics"
   ]
  },
  {
   "cell_type": "code",
   "execution_count": 25,
   "metadata": {},
   "outputs": [
    {
     "name": "stdout",
     "output_type": "stream",
     "text": [
      "Regression score: 0.9145 for the k_value: 1\n",
      "Regression score: 0.9464 for the k_value: 2\n",
      "Regression score: 0.9548 for the k_value: 3\n",
      "Regression score: 0.9594 for the k_value: 4\n",
      "Regression score: 0.9583 for the k_value: 5\n",
      "Regression score: 0.9579 for the k_value: 6\n",
      "Regression score: 0.9579 for the k_value: 7\n",
      "Regression score: 0.9609 for the k_value: 8\n",
      "Regression score: 0.9576 for the k_value: 9\n",
      "Regression score: 0.9557 for the k_value: 10\n"
     ]
    }
   ],
   "source": [
    "for k in range(10):\n",
    "    k_value = k + 1\n",
    "    knn = KNeighborsRegressor(n_neighbors = k_value)\n",
    "    knn.fit(x_train, y_train) \n",
    "    y_pred = knn.predict(x_test)\n",
    "    print (\"Regression score:\",format(metrics.r2_score(y_test, y_pred),'.4f'), \"for the k_value:\", k_value)"
   ]
  },
  {
   "cell_type": "markdown",
   "metadata": {},
   "source": [
    "<B>Fitting of Dataset</B> \n",
    "<br>\n",
    "<p>From the analysis of scores, K=8 has the highest score. Thus we take K=8 for fitting</p>"
   ]
  },
  {
   "cell_type": "code",
   "execution_count": 26,
   "metadata": {},
   "outputs": [
    {
     "name": "stdout",
     "output_type": "stream",
     "text": [
      "Mean Squared Error is: 0.0011143\n",
      "Regression score is: 0.9609\n"
     ]
    }
   ],
   "source": [
    "knn = KNeighborsRegressor(n_neighbors = 8)\n",
    "knn.fit(x_train, y_train) \n",
    "y_pred = knn.predict(x_test)\n",
    "print (\"Mean Squared Error is:\", format(metrics.mean_squared_error(y_test, y_pred), '.7f'))\n",
    "print (\"Regression score is:\", format(metrics.r2_score(y_test, y_pred),'.4f'))"
   ]
  },
  {
   "cell_type": "code",
   "execution_count": 27,
   "metadata": {},
   "outputs": [
    {
     "data": {
      "text/html": [
       "<div>\n",
       "<style scoped>\n",
       "    .dataframe tbody tr th:only-of-type {\n",
       "        vertical-align: middle;\n",
       "    }\n",
       "\n",
       "    .dataframe tbody tr th {\n",
       "        vertical-align: top;\n",
       "    }\n",
       "\n",
       "    .dataframe thead th {\n",
       "        text-align: right;\n",
       "    }\n",
       "</style>\n",
       "<table border=\"1\" class=\"dataframe\">\n",
       "  <thead>\n",
       "    <tr style=\"text-align: right;\">\n",
       "      <th></th>\n",
       "      <th>Actual Points</th>\n",
       "      <th>Predicted Points</th>\n",
       "    </tr>\n",
       "  </thead>\n",
       "  <tbody>\n",
       "    <tr>\n",
       "      <th>0</th>\n",
       "      <td>0.168145</td>\n",
       "      <td>0.125723</td>\n",
       "    </tr>\n",
       "    <tr>\n",
       "      <th>1</th>\n",
       "      <td>0.276514</td>\n",
       "      <td>0.297243</td>\n",
       "    </tr>\n",
       "    <tr>\n",
       "      <th>2</th>\n",
       "      <td>0.422676</td>\n",
       "      <td>0.363189</td>\n",
       "    </tr>\n",
       "    <tr>\n",
       "      <th>3</th>\n",
       "      <td>0.007327</td>\n",
       "      <td>0.011088</td>\n",
       "    </tr>\n",
       "    <tr>\n",
       "      <th>4</th>\n",
       "      <td>0.381026</td>\n",
       "      <td>0.373939</td>\n",
       "    </tr>\n",
       "    <tr>\n",
       "      <th>...</th>\n",
       "      <td>...</td>\n",
       "      <td>...</td>\n",
       "    </tr>\n",
       "    <tr>\n",
       "      <th>140</th>\n",
       "      <td>0.426919</td>\n",
       "      <td>0.421664</td>\n",
       "    </tr>\n",
       "    <tr>\n",
       "      <th>141</th>\n",
       "      <td>0.013498</td>\n",
       "      <td>0.019379</td>\n",
       "    </tr>\n",
       "    <tr>\n",
       "      <th>142</th>\n",
       "      <td>0.312379</td>\n",
       "      <td>0.303943</td>\n",
       "    </tr>\n",
       "    <tr>\n",
       "      <th>143</th>\n",
       "      <td>0.306980</td>\n",
       "      <td>0.273766</td>\n",
       "    </tr>\n",
       "    <tr>\n",
       "      <th>144</th>\n",
       "      <td>0.036251</td>\n",
       "      <td>0.029985</td>\n",
       "    </tr>\n",
       "  </tbody>\n",
       "</table>\n",
       "<p>145 rows × 2 columns</p>\n",
       "</div>"
      ],
      "text/plain": [
       "     Actual Points  Predicted Points\n",
       "0         0.168145          0.125723\n",
       "1         0.276514          0.297243\n",
       "2         0.422676          0.363189\n",
       "3         0.007327          0.011088\n",
       "4         0.381026          0.373939\n",
       "..             ...               ...\n",
       "140       0.426919          0.421664\n",
       "141       0.013498          0.019379\n",
       "142       0.312379          0.303943\n",
       "143       0.306980          0.273766\n",
       "144       0.036251          0.029985\n",
       "\n",
       "[145 rows x 2 columns]"
      ]
     },
     "execution_count": 27,
     "metadata": {},
     "output_type": "execute_result"
    }
   ],
   "source": [
    "Test_With_Predicted = pd.DataFrame({'Actual Points': y_test.tolist(), 'Predicted Points': y_pred.tolist()})\n",
    "Test_With_Predicted"
   ]
  }
 ],
 "metadata": {
  "interpreter": {
   "hash": "9f52f0ffa10333028d7ff9953f0d373124b399c9536e08a74b5548e04132c9f5"
  },
  "kernelspec": {
   "display_name": "Python 3.9.7 64-bit ('base': conda)",
   "language": "python",
   "name": "python3"
  },
  "language_info": {
   "codemirror_mode": {
    "name": "ipython",
    "version": 3
   },
   "file_extension": ".py",
   "mimetype": "text/x-python",
   "name": "python",
   "nbconvert_exporter": "python",
   "pygments_lexer": "ipython3",
   "version": "3.10.9"
  },
  "orig_nbformat": 4
 },
 "nbformat": 4,
 "nbformat_minor": 2
}
